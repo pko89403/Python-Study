{
 "metadata": {
  "language_info": {
   "codemirror_mode": {
    "name": "ipython",
    "version": 3
   },
   "file_extension": ".py",
   "mimetype": "text/x-python",
   "name": "python",
   "nbconvert_exporter": "python",
   "pygments_lexer": "ipython3",
   "version": "3.8.5-final"
  },
  "orig_nbformat": 2,
  "kernelspec": {
   "name": "Python 3.8.5 64-bit",
   "display_name": "Python 3.8.5 64-bit",
   "metadata": {
    "interpreter": {
     "hash": "aee8b7b246df8f9039afb4144a1f6fd8d2ca17a180786b69acc140d282b71a49"
    }
   }
  }
 },
 "nbformat": 4,
 "nbformat_minor": 2,
 "cells": [
  {
   "source": [
    "# 인덱스와 슬라이스\n",
    "모든 시퀀스에 간격을 전달할 때 실제로는 슬라이스를 전달하는 것과 같다.    \n",
    "직접 슬라이스를 빌드해서 전달할 수도 있다."
   ],
   "cell_type": "markdown",
   "metadata": {}
  },
  {
   "cell_type": "code",
   "execution_count": 3,
   "metadata": {},
   "outputs": [
    {
     "output_type": "execute_result",
     "data": {
      "text/plain": [
       "(2, 3, 5)"
      ]
     },
     "metadata": {},
     "execution_count": 3
    }
   ],
   "source": [
    "my_numbers = (1, 1, 2, 3, 5, 8, 13, 21)\n",
    "my_numbers[2:5]"
   ]
  },
  {
   "source": [
    "interval = slice(1, 7, 2)\n",
    "my_numbers[interval]"
   ],
   "cell_type": "code",
   "metadata": {},
   "execution_count": 4,
   "outputs": [
    {
     "output_type": "execute_result",
     "data": {
      "text/plain": [
       "(1, 3, 8)"
      ]
     },
     "metadata": {},
     "execution_count": 4
    }
   ]
  },
  {
   "source": [
    "# 자체 시퀀스 생성\n",
    "시퀀스는 __getitem__과 __len__을 모두 구현하는 객체이므로 반복이 가능하다.      \n",
    "리스트, 튜플, 문자열은 표준 라이브러리에 있는 시퀀스 객체의 예이다.    "
   ],
   "cell_type": "markdown",
   "metadata": {}
  },
  {
   "cell_type": "code",
   "execution_count": 6,
   "metadata": {},
   "outputs": [],
   "source": [
    "class Items:\n",
    "    def __init__(self, *values):\n",
    "        self.__values = list(values)\n",
    "    \n",
    "    def __len__(self):\n",
    "        return len(self.__values)\n",
    "    \n",
    "    def __getitem__(self, item):\n",
    "        return self.__values.__getitem__(item)"
   ]
  },
  {
   "source": [
    "- 범위로 인덱싱하는 결과는 해당 클래스와 같은 타입의 인스턴스여야 한다\n",
    "- slice에 의해 제공된 범위는 파이썬이 하는 것처럼 마지막 요소는 제외해야 한다"
   ],
   "cell_type": "markdown",
   "metadata": {}
  }
 ]
}