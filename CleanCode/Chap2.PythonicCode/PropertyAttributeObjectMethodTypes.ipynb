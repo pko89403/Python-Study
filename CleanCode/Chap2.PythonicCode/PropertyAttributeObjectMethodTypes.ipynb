{
 "metadata": {
  "language_info": {
   "codemirror_mode": {
    "name": "ipython",
    "version": 3
   },
   "file_extension": ".py",
   "mimetype": "text/x-python",
   "name": "python",
   "nbconvert_exporter": "python",
   "pygments_lexer": "ipython3",
   "version": "3.8.5-final"
  },
  "orig_nbformat": 2,
  "kernelspec": {
   "name": "Python 3.8.5 64-bit",
   "display_name": "Python 3.8.5 64-bit",
   "metadata": {
    "interpreter": {
     "hash": "aee8b7b246df8f9039afb4144a1f6fd8d2ca17a180786b69acc140d282b71a49"
    }
   }
  }
 },
 "nbformat": 4,
 "nbformat_minor": 2,
 "cells": [
  {
   "source": [
    "# 프로퍼티, 속성과 객체 메소드의 다른 타입들\n",
    "파이썬 객체의 포르퍼티와 함수는 public이다. 밑줄로 시작하는 속성은 해당 객체에 대해 private을 의미하며, 외부에서 호출하지 않기를 기대하는 것이다"
   ],
   "cell_type": "markdown",
   "metadata": {}
  },
  {
   "cell_type": "code",
   "execution_count": 13,
   "metadata": {},
   "outputs": [],
   "source": [
    "class Connector:\n",
    "    def __init__(self, source):\n",
    "        self.source = source\n",
    "        self._timeout = 60"
   ]
  },
  {
   "cell_type": "code",
   "execution_count": 14,
   "metadata": {},
   "outputs": [],
   "source": [
    "conn = Connector(\"postgresql://localhost\")"
   ]
  },
  {
   "cell_type": "code",
   "execution_count": 15,
   "metadata": {},
   "outputs": [
    {
     "output_type": "execute_result",
     "data": {
      "text/plain": [
       "'postgresql://localhost'"
      ]
     },
     "metadata": {},
     "execution_count": 15
    }
   ],
   "source": [
    "conn.source"
   ]
  },
  {
   "cell_type": "code",
   "execution_count": 16,
   "metadata": {},
   "outputs": [
    {
     "output_type": "execute_result",
     "data": {
      "text/plain": [
       "60"
      ]
     },
     "metadata": {},
     "execution_count": 16
    }
   ],
   "source": [
    "conn._timeout"
   ]
  },
  {
   "cell_type": "code",
   "execution_count": 17,
   "metadata": {},
   "outputs": [
    {
     "output_type": "execute_result",
     "data": {
      "text/plain": [
       "{'source': 'postgresql://localhost', '_timeout': 60}"
      ]
     },
     "metadata": {},
     "execution_count": 17
    }
   ],
   "source": [
    "conn.__dict__"
   ]
  },
  {
   "cell_type": "code",
   "execution_count": 18,
   "metadata": {},
   "outputs": [],
   "source": [
    "class Connector:\n",
    "    def __init__(self, source):\n",
    "        self.source = source\n",
    "        self.__timeout = 60\n",
    "    \n",
    "    def connect(self):\n",
    "        print(\"Connecting with {0}s\".format(self.__timeout))\n",
    "        # ..."
   ]
  },
  {
   "cell_type": "code",
   "execution_count": 19,
   "metadata": {},
   "outputs": [],
   "source": [
    "conn = Connector(\"postgresql://localhost\")"
   ]
  },
  {
   "cell_type": "code",
   "execution_count": 20,
   "metadata": {},
   "outputs": [
    {
     "output_type": "stream",
     "name": "stdout",
     "text": [
      "Connecting with 60s\n"
     ]
    }
   ],
   "source": [
    "conn.connect()"
   ]
  },
  {
   "cell_type": "code",
   "execution_count": 21,
   "metadata": {},
   "outputs": [
    {
     "output_type": "error",
     "ename": "AttributeError",
     "evalue": "'Connector' object has no attribute '__timeout'",
     "traceback": [
      "\u001b[0;31m---------------------------------------------------------------------------\u001b[0m",
      "\u001b[0;31mAttributeError\u001b[0m                            Traceback (most recent call last)",
      "\u001b[0;32m<ipython-input-21-d082cdc68a78>\u001b[0m in \u001b[0;36m<module>\u001b[0;34m\u001b[0m\n\u001b[0;32m----> 1\u001b[0;31m \u001b[0mconn\u001b[0m\u001b[0;34m.\u001b[0m\u001b[0m__timeout\u001b[0m\u001b[0;34m\u001b[0m\u001b[0;34m\u001b[0m\u001b[0m\n\u001b[0m",
      "\u001b[0;31mAttributeError\u001b[0m: 'Connector' object has no attribute '__timeout'"
     ]
    }
   ],
   "source": [
    "conn.__timeout"
   ]
  },
  {
   "source": [
    "밑줄 두 개를 사용하면 실제로 파이썬은 다른 이름을 만든다. 이름 맹글링(name mangling)이라 한다.    \n",
    "이것이 하는 일은 다음과 같은 이름의 속성을 만드는 것이다. \"_<class-name>__<attribute_name>\" 경우\n",
    "'_Connector__timeout'이라는 속성이 만들어지며 이러한 속성은 다음과 같이 접근하여 수정할 수 있다.   "
   ],
   "cell_type": "markdown",
   "metadata": {}
  },
  {
   "cell_type": "code",
   "execution_count": 22,
   "metadata": {},
   "outputs": [
    {
     "output_type": "execute_result",
     "data": {
      "text/plain": [
       "{'source': 'postgresql://localhost', '_Connector__timeout': 60}"
      ]
     },
     "metadata": {},
     "execution_count": 22
    }
   ],
   "source": [
    "vars(conn)"
   ]
  },
  {
   "cell_type": "code",
   "execution_count": 23,
   "metadata": {},
   "outputs": [
    {
     "output_type": "execute_result",
     "data": {
      "text/plain": [
       "60"
      ]
     },
     "metadata": {},
     "execution_count": 23
    }
   ],
   "source": [
    "conn._Connector__timeout"
   ]
  },
  {
   "cell_type": "code",
   "execution_count": 24,
   "metadata": {},
   "outputs": [],
   "source": [
    "conn._Connector__timeout = 30"
   ]
  },
  {
   "cell_type": "code",
   "execution_count": 25,
   "metadata": {},
   "outputs": [
    {
     "output_type": "stream",
     "name": "stdout",
     "text": [
      "Connecting with 30s\n"
     ]
    }
   ],
   "source": [
    "conn.connect()"
   ]
  },
  {
   "source": [
    "이중 밑줄은 여러 번 확장되는 클래스의 메소드를 이름 충돌 없이 오버라이드 하기 위해 만들어 졌다      \n",
    "파이썬스러운 코드는 아니다. 밑줄 한번으로 속성을 private으로 정의하는 것이 좋다     "
   ],
   "cell_type": "markdown",
   "metadata": {}
  },
  {
   "source": [
    "## 프로퍼티\n",
    "객체의 어떤 속성에 대한 접근을 제어하려는 경우 사용한다. 파이썬에서는 자바 처럼 setter와 getter를 사용하지 않고 프로퍼티를 사용한다.     \n"
   ],
   "cell_type": "markdown",
   "metadata": {}
  },
  {
   "cell_type": "code",
   "execution_count": 35,
   "metadata": {},
   "outputs": [],
   "source": [
    "import re \n",
    "\n",
    "EMAIL_FORMAT = re.compile(r\"[^@]+@[^@]+[^@]+\")\n",
    "\n",
    "def is_valid_email(potentially_valid_email: str):\n",
    "    return re.match(EMAIL_FORMAT, potentially_valid_email) is not None                                                            \n",
    "\n",
    "class User:\n",
    "    def __init__(self, username):\n",
    "        self.username = username\n",
    "        self._email = None \n",
    "\n",
    "@property\n",
    "def email(self):\n",
    "    return self._email \n",
    "\n",
    "@email.setter\n",
    "def email(self, new_email):\n",
    "    if not is_valid_email(new_email):\n",
    "        raise ValueError(f\"유효한 이메일이 아니므로 {new_email} 값을 사용할 수 없음\")\n",
    "    self._email = new_email             "
   ]
  },
  {
   "source": [
    "@property 메소드는 private 속성인 email 값을 반환한다.  "
   ],
   "cell_type": "markdown",
   "metadata": {}
  },
  {
   "cell_type": "code",
   "execution_count": 36,
   "metadata": {},
   "outputs": [],
   "source": [
    "u1 = User(\" jsmith \")\n",
    "u1.email = \"jsmith@\""
   ]
  },
  {
   "source": [
    "프로퍼티는 명령-쿼리 분리 원칙( command and query seperatioin )을 따르기 좋은 방법이다.        \n",
    "명령-분리 원칙 : 무언가의 값을 반환하는 쿼리이거나 둘 중에 하나만 수행해야지 둘 다 둥시에 수행하면 안 된다는 것이다.     \n",
    "- @property 데코레이터는 무언가에 응답하기 위한 쿼리이고,\n",
    "- @<property_name>.setter는 무언가를 하기 위한 커맨드이다"
   ],
   "cell_type": "markdown",
   "metadata": {}
  },
  {
   "cell_type": "code",
   "execution_count": null,
   "metadata": {},
   "outputs": [],
   "source": []
  }
 ]
}