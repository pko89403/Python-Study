{
 "metadata": {
  "language_info": {
   "codemirror_mode": {
    "name": "ipython",
    "version": 3
   },
   "file_extension": ".py",
   "mimetype": "text/x-python",
   "name": "python",
   "nbconvert_exporter": "python",
   "pygments_lexer": "ipython3",
   "version": "3.8.5-final"
  },
  "orig_nbformat": 2,
  "kernelspec": {
   "name": "Python 3.8.5 64-bit",
   "display_name": "Python 3.8.5 64-bit",
   "metadata": {
    "interpreter": {
     "hash": "aee8b7b246df8f9039afb4144a1f6fd8d2ca17a180786b69acc140d282b71a49"
    }
   }
  }
 },
 "nbformat": 4,
 "nbformat_minor": 2,
 "cells": [
  {
   "source": [
    "# 컨텍스트 관리자 (context manager)\n",
    "\n",
    "~~~python\n",
    "with open(filename) as fd:\n",
    "    process_file(fd)\n",
    "~~~\n",
    "with 문은 컨텍스트 관리자로 진입하게 한다. 컨텍스트 관리자는\n",
    "- __enter__\n",
    "- __exit__\n",
    "의 두 개의 매직 메소드로 구성된다. with 문은 __enter__ 메소드를 호출하고 as 이후에 지정된 변수에 할당된다.     \n",
    "해당 블록에 대한 마지막 문장이 끝나면 컨텍스트가 종료되며 이는 파이썬이 처음 호출한 원래 컨텍스트 관리자 객체의 __exit__ 메소드를 호출함을 의미한다.     \n",
    "\n",
    "컨텍스트 관리자는 관심사를 분리하고 독립적으로 유지되어야하는 코드를 분리하느 좋은 방법이다.     \n"
   ],
   "cell_type": "markdown",
   "metadata": {}
  },
  {
   "cell_type": "code",
   "execution_count": 4,
   "metadata": {},
   "outputs": [],
   "source": [
    "def stop_database():\n",
    "    print(\"systemctl stop postgresql.service\")\n",
    "\n",
    "def start_database():\n",
    "    print(\"systemctl start postgresql.service\")\n",
    "\n",
    "class DBHandler:\n",
    "    def __enter__(self):\n",
    "        stop_database()\n",
    "        return self \n",
    "    \n",
    "    def __exit__(self, exc_type, ex_value, ex_traceback):\n",
    "        start_database()\n",
    "\n",
    "def db_backup():\n",
    "    print(\"pg_dump database\")\n",
    "\n",
    "def main():\n",
    "    with DBHandler():\n",
    "        db_backup()"
   ]
  },
  {
   "cell_type": "code",
   "execution_count": 5,
   "metadata": {},
   "outputs": [
    {
     "output_type": "stream",
     "name": "stdout",
     "text": [
      "systemctl stop postgresql.service\npg_dump database\nsystemctl start postgresql.service\n"
     ]
    }
   ],
   "source": [
    "main()"
   ]
  },
  {
   "source": [
    "__enter__와 __exit__ 매직 메소드만 구현하는 방법이 일반적이지만, contextlib 모듈을 사용하여 보다 쉽게 구현할 수 도 있다.     \n",
    "먼저 contextmanager 데코레이터를 살펴 보아야 한다. 함수에 contextlib.contextmanager 데코레이터를 적용하면 해당 함수의 코드를 컨텍스트 관리자로 변환한다.    \n",
    "함수는 제너레이터라는 특수한 함수의 형태여야 하는데 이 함수는 코드의 문장을 __enter__와 __exit__ 매직 메소드로 분리한다.        \n"
   ],
   "cell_type": "markdown",
   "metadata": {}
  },
  {
   "cell_type": "code",
   "execution_count": 7,
   "metadata": {},
   "outputs": [
    {
     "output_type": "stream",
     "name": "stdout",
     "text": [
      "systemctl stop postgresql.service\nsystemctl start postgresql.service\n"
     ]
    }
   ],
   "source": [
    "import contextlib\n",
    "\n",
    "@contextlib.contextmanager\n",
    "def db_handler():\n",
    "    stop_database()\n",
    "    yield # yield 문을 사용했으므로 generator 가 된다\n",
    "    start_database()\n",
    "\n",
    "with db_handler():\n",
    "    db_backup\n",
    "\n"
   ]
  },
  {
   "source": [
    "데코레이터를 적용하면 yield 문 앞의 모든 것은 __enter__ 메소드의 일부처럼 취급된다는 것이다      \n",
    "yield 문 다음에 오는 모든 것들은 __exit__ 로직으로 볼 수 있다"
   ],
   "cell_type": "markdown",
   "metadata": {}
  },
  {
   "cell_type": "code",
   "execution_count": 9,
   "metadata": {},
   "outputs": [],
   "source": [
    "class dbhandler_decorator(contextlib.ContextDecorator):\n",
    "    def __enter__(self):\n",
    "        stop_database()\n",
    "    \n",
    "    def __exit__(self, ext_type, ex_value, ex_traceback):\n",
    "        start_database()\n",
    "\n",
    "@dbhandler_decorator()\n",
    "def offline_backup():\n",
    "    print(\"pg_dump database\")"
   ]
  },
  {
   "source": [
    "contextlib.ContextDecorator 이다. 이 클래스는 컨텍스트 관리자 안에서 실행될 함수에 데코레이터를 적용하기 위한 로직을 제공하는 믹스인 클래스이다.      \n",
    "믹스인 클래스는 다른 클래스에서 필요한 기능만 섞어서 사용할 수 있도록 메소드 만을 제공하는 유틸리티 형태의 클래스이다.        \n",
    "with 문이 없고 그저 함수를 호출하기만 하면 offline_backup 함수가 컨텍스트 관리자 안에서 자동으로 실행된다.      \n"
   ],
   "cell_type": "markdown",
   "metadata": {}
  },
  {
   "cell_type": "code",
   "execution_count": null,
   "metadata": {},
   "outputs": [],
   "source": [
    "import contextlib \n",
    "\n",
    "with contextlib.suppress(DataConversionException):\n",
    "    parse_data(input_json_or_dict)\n",
    "    "
   ]
  }
 ]
}